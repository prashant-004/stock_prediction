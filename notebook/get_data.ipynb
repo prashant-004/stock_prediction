{
 "cells": [
  {
   "cell_type": "code",
   "execution_count": 452,
   "id": "ca749823",
   "metadata": {},
   "outputs": [],
   "source": [
    "import pandas as pd\n",
    "import numpy as np"
   ]
  },
  {
   "cell_type": "code",
   "execution_count": 453,
   "id": "72b502fb",
   "metadata": {},
   "outputs": [],
   "source": [
    "import yfinance as yf\n",
    "import datetime as dt"
   ]
  },
  {
   "cell_type": "code",
   "execution_count": 454,
   "id": "fb681825",
   "metadata": {},
   "outputs": [],
   "source": [
    "stock = ['INFY.NS']\n",
    "start = dt.datetime(2020,1,1)\n",
    "end = dt.datetime(2025,1,1)"
   ]
  },
  {
   "cell_type": "code",
   "execution_count": 455,
   "id": "9c2d1015",
   "metadata": {},
   "outputs": [],
   "source": [
    "all_data = []"
   ]
  },
  {
   "cell_type": "code",
   "execution_count": 456,
   "id": "49a6f537",
   "metadata": {},
   "outputs": [],
   "source": [
    "def get_stock(stock,start,end):\n",
    "    \n",
    "    for stock_id in stock:\n",
    "        \n",
    "        df = yf.download(stock_id, start=start, end=end)\n",
    "        df = df[['Open', 'High', 'Low', 'Close', 'Volume']]  \n",
    "        df['Date'] = df.index\n",
    "        df['stock_id'] = stock_id\n",
    "        df.reset_index(drop=True, inplace=True)\n",
    "        all_data.append(df)\n",
    "        \n",
    "    if all_data:\n",
    "            return pd.concat(all_data, ignore_index=True)\n",
    "    return pd.DataFrame()"
   ]
  },
  {
   "cell_type": "code",
   "execution_count": 457,
   "id": "230db056",
   "metadata": {},
   "outputs": [
    {
     "name": "stderr",
     "output_type": "stream",
     "text": [
      "C:\\Users\\Lenovo\\AppData\\Local\\Temp\\ipykernel_27360\\4235868153.py:5: FutureWarning: YF.download() has changed argument auto_adjust default to True\n",
      "  df = yf.download(stock_id, start=start, end=end)\n",
      "[*********************100%***********************]  1 of 1 completed\n"
     ]
    }
   ],
   "source": [
    "df = get_stock(stock,start,end)"
   ]
  },
  {
   "cell_type": "code",
   "execution_count": 458,
   "id": "f145361d",
   "metadata": {},
   "outputs": [],
   "source": [
    "df.reset_index()\n",
    "df.columns = df.columns.droplevel(1)"
   ]
  },
  {
   "cell_type": "code",
   "execution_count": 459,
   "id": "6b132600",
   "metadata": {},
   "outputs": [
    {
     "data": {
      "text/html": [
       "<div>\n",
       "<style scoped>\n",
       "    .dataframe tbody tr th:only-of-type {\n",
       "        vertical-align: middle;\n",
       "    }\n",
       "\n",
       "    .dataframe tbody tr th {\n",
       "        vertical-align: top;\n",
       "    }\n",
       "\n",
       "    .dataframe thead th {\n",
       "        text-align: right;\n",
       "    }\n",
       "</style>\n",
       "<table border=\"1\" class=\"dataframe\">\n",
       "  <thead>\n",
       "    <tr style=\"text-align: right;\">\n",
       "      <th>Price</th>\n",
       "      <th>Open</th>\n",
       "      <th>High</th>\n",
       "      <th>Low</th>\n",
       "      <th>Close</th>\n",
       "      <th>Volume</th>\n",
       "      <th>Date</th>\n",
       "      <th>stock_id</th>\n",
       "    </tr>\n",
       "  </thead>\n",
       "  <tbody>\n",
       "    <tr>\n",
       "      <th>0</th>\n",
       "      <td>650.393981</td>\n",
       "      <td>654.818430</td>\n",
       "      <td>648.225991</td>\n",
       "      <td>652.031006</td>\n",
       "      <td>2112415</td>\n",
       "      <td>2020-01-01</td>\n",
       "      <td>INFY.NS</td>\n",
       "    </tr>\n",
       "    <tr>\n",
       "      <th>1</th>\n",
       "      <td>653.845088</td>\n",
       "      <td>655.526346</td>\n",
       "      <td>646.765970</td>\n",
       "      <td>650.128540</td>\n",
       "      <td>5658200</td>\n",
       "      <td>2020-01-02</td>\n",
       "      <td>INFY.NS</td>\n",
       "    </tr>\n",
       "    <tr>\n",
       "      <th>2</th>\n",
       "      <td>649.420662</td>\n",
       "      <td>661.897587</td>\n",
       "      <td>649.420662</td>\n",
       "      <td>660.127808</td>\n",
       "      <td>7882938</td>\n",
       "      <td>2020-01-03</td>\n",
       "      <td>INFY.NS</td>\n",
       "    </tr>\n",
       "    <tr>\n",
       "      <th>3</th>\n",
       "      <td>660.216170</td>\n",
       "      <td>667.029832</td>\n",
       "      <td>651.721251</td>\n",
       "      <td>653.800720</td>\n",
       "      <td>6519403</td>\n",
       "      <td>2020-01-06</td>\n",
       "      <td>INFY.NS</td>\n",
       "    </tr>\n",
       "    <tr>\n",
       "      <th>4</th>\n",
       "      <td>653.048694</td>\n",
       "      <td>657.119165</td>\n",
       "      <td>641.633593</td>\n",
       "      <td>644.111328</td>\n",
       "      <td>7899363</td>\n",
       "      <td>2020-01-07</td>\n",
       "      <td>INFY.NS</td>\n",
       "    </tr>\n",
       "  </tbody>\n",
       "</table>\n",
       "</div>"
      ],
      "text/plain": [
       "Price        Open        High         Low       Close   Volume       Date  \\\n",
       "0      650.393981  654.818430  648.225991  652.031006  2112415 2020-01-01   \n",
       "1      653.845088  655.526346  646.765970  650.128540  5658200 2020-01-02   \n",
       "2      649.420662  661.897587  649.420662  660.127808  7882938 2020-01-03   \n",
       "3      660.216170  667.029832  651.721251  653.800720  6519403 2020-01-06   \n",
       "4      653.048694  657.119165  641.633593  644.111328  7899363 2020-01-07   \n",
       "\n",
       "Price stock_id  \n",
       "0      INFY.NS  \n",
       "1      INFY.NS  \n",
       "2      INFY.NS  \n",
       "3      INFY.NS  \n",
       "4      INFY.NS  "
      ]
     },
     "execution_count": 459,
     "metadata": {},
     "output_type": "execute_result"
    }
   ],
   "source": [
    "df.head()\n"
   ]
  },
  {
   "cell_type": "code",
   "execution_count": 460,
   "id": "38e3ea3b",
   "metadata": {},
   "outputs": [],
   "source": [
    "from finta import TA"
   ]
  },
  {
   "cell_type": "code",
   "execution_count": 461,
   "id": "d36f1c9f",
   "metadata": {},
   "outputs": [],
   "source": [
    "df['sma_20'] = TA.SMA(df, 20)\n",
    "df['ema_10'] = TA.EMA(df, 10)\n",
    "df['ema_20'] = TA.EMA(df, 20)\n",
    "df['rsi'] = TA.RSI(df)\n",
    "df['macd'] = TA.MACD(df)['MACD']\n",
    "df['bb_upper'] = TA.BBANDS(df)['BB_UPPER']\n",
    "df['bb_lower'] = TA.BBANDS(df)['BB_LOWER']"
   ]
  },
  {
   "cell_type": "code",
   "execution_count": 462,
   "id": "4cdc9fb5",
   "metadata": {},
   "outputs": [
    {
     "data": {
      "text/plain": [
       "Price\n",
       "Open         0\n",
       "High         0\n",
       "Low          0\n",
       "Close        0\n",
       "Volume       0\n",
       "Date         0\n",
       "stock_id     0\n",
       "sma_20      19\n",
       "ema_10       0\n",
       "ema_20       0\n",
       "rsi          1\n",
       "macd         0\n",
       "bb_upper    19\n",
       "bb_lower    19\n",
       "dtype: int64"
      ]
     },
     "execution_count": 462,
     "metadata": {},
     "output_type": "execute_result"
    }
   ],
   "source": [
    "df.isna().sum()"
   ]
  },
  {
   "cell_type": "code",
   "execution_count": 463,
   "id": "990e7689",
   "metadata": {},
   "outputs": [],
   "source": [
    "df.dropna(inplace= True)"
   ]
  },
  {
   "cell_type": "code",
   "execution_count": 464,
   "id": "6dbe2dd2",
   "metadata": {},
   "outputs": [
    {
     "data": {
      "text/plain": [
       "Price\n",
       "Open        0\n",
       "High        0\n",
       "Low         0\n",
       "Close       0\n",
       "Volume      0\n",
       "Date        0\n",
       "stock_id    0\n",
       "sma_20      0\n",
       "ema_10      0\n",
       "ema_20      0\n",
       "rsi         0\n",
       "macd        0\n",
       "bb_upper    0\n",
       "bb_lower    0\n",
       "dtype: int64"
      ]
     },
     "execution_count": 464,
     "metadata": {},
     "output_type": "execute_result"
    }
   ],
   "source": [
    "df.isna().sum()"
   ]
  },
  {
   "cell_type": "code",
   "execution_count": null,
   "id": "210b880d",
   "metadata": {},
   "outputs": [],
   "source": []
  },
  {
   "cell_type": "code",
   "execution_count": null,
   "id": "4391dfbd",
   "metadata": {},
   "outputs": [],
   "source": []
  },
  {
   "cell_type": "code",
   "execution_count": null,
   "id": "c3a11613",
   "metadata": {},
   "outputs": [],
   "source": []
  }
 ],
 "metadata": {
  "kernelspec": {
   "display_name": "stock",
   "language": "python",
   "name": "python3"
  },
  "language_info": {
   "codemirror_mode": {
    "name": "ipython",
    "version": 3
   },
   "file_extension": ".py",
   "mimetype": "text/x-python",
   "name": "python",
   "nbconvert_exporter": "python",
   "pygments_lexer": "ipython3",
   "version": "3.12.5"
  }
 },
 "nbformat": 4,
 "nbformat_minor": 5
}
