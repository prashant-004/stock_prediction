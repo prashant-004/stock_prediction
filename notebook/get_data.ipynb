{
 "cells": [
  {
   "cell_type": "code",
   "execution_count": 1,
   "id": "ca749823",
   "metadata": {},
   "outputs": [],
   "source": [
    "import pandas as pd\n",
    "import numpy as np"
   ]
  },
  {
   "cell_type": "code",
   "execution_count": 3,
   "id": "72b502fb",
   "metadata": {},
   "outputs": [],
   "source": [
    "import yfinance as yf\n",
    "import datetime as dt"
   ]
  },
  {
   "cell_type": "code",
   "execution_count": null,
   "id": "fb681825",
   "metadata": {},
   "outputs": [],
   "source": [
    "stock = ['TATAMOTORS.NS','INFY.NS','RELIANCE.NS','HDFCBANK.NS','TCS.NS']\n",
    "start = dt.datetime(2020,1,1)\n",
    "end = dt.datetime(2025,1,1)"
   ]
  },
  {
   "cell_type": "code",
   "execution_count": null,
   "id": "49a6f537",
   "metadata": {},
   "outputs": [],
   "source": [
    "def get_stock(stock,start,end):\n",
    "    \n",
    "    all_data = []\n",
    "    \n",
    "    for stock_id in stock:\n",
    "        \n",
    "        df = yf.download(stock_id, start=start, end=end)\n",
    "\n",
    "        df['stock_id'] = stock_id \n",
    "        df.reset_index(inplace=True)\n",
    "        all_data.append(df)\n",
    "        \n",
    "    if all_data:\n",
    "            return pd.concat(all_data, ignore_index=True)\n",
    "    return pd.DataFrame()"
   ]
  },
  {
   "cell_type": "code",
   "execution_count": null,
   "id": "230db056",
   "metadata": {},
   "outputs": [],
   "source": [
    "df = get_stock(stock,start,end)"
   ]
  },
  {
   "cell_type": "code",
   "execution_count": null,
   "id": "6b132600",
   "metadata": {},
   "outputs": [],
   "source": []
  }
 ],
 "metadata": {
  "kernelspec": {
   "display_name": "stock",
   "language": "python",
   "name": "python3"
  },
  "language_info": {
   "codemirror_mode": {
    "name": "ipython",
    "version": 3
   },
   "file_extension": ".py",
   "mimetype": "text/x-python",
   "name": "python",
   "nbconvert_exporter": "python",
   "pygments_lexer": "ipython3",
   "version": "3.12.5"
  }
 },
 "nbformat": 4,
 "nbformat_minor": 5
}
